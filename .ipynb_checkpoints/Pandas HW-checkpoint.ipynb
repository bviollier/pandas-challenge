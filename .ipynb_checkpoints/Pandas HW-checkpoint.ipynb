{
 "cells": [
  {
   "cell_type": "code",
   "execution_count": 1,
   "metadata": {},
   "outputs": [],
   "source": [
    "import pandas as pd\n",
    "file = \"Resources/purchase_data.csv\"\n",
    "df = pd.read_csv(file)"
   ]
  },
  {
   "cell_type": "code",
   "execution_count": 2,
   "metadata": {},
   "outputs": [
    {
     "data": {
      "text/html": [
       "<div>\n",
       "<style scoped>\n",
       "    .dataframe tbody tr th:only-of-type {\n",
       "        vertical-align: middle;\n",
       "    }\n",
       "\n",
       "    .dataframe tbody tr th {\n",
       "        vertical-align: top;\n",
       "    }\n",
       "\n",
       "    .dataframe thead th {\n",
       "        text-align: right;\n",
       "    }\n",
       "</style>\n",
       "<table border=\"1\" class=\"dataframe\">\n",
       "  <thead>\n",
       "    <tr style=\"text-align: right;\">\n",
       "      <th></th>\n",
       "      <th>Total Players</th>\n",
       "    </tr>\n",
       "  </thead>\n",
       "  <tbody>\n",
       "    <tr>\n",
       "      <th>0</th>\n",
       "      <td>576</td>\n",
       "    </tr>\n",
       "  </tbody>\n",
       "</table>\n",
       "</div>"
      ],
      "text/plain": [
       "   Total Players\n",
       "0            576"
      ]
     },
     "execution_count": 2,
     "metadata": {},
     "output_type": "execute_result"
    }
   ],
   "source": [
    "unique_SN = df['SN'].value_counts()\n",
    "unique = unique_SN.count()\n",
    "\n",
    "df_total_players = pd.DataFrame(\n",
    "    {\"Total Players\": [unique]})\n",
    "\n",
    "df_total_players"
   ]
  },
  {
   "cell_type": "code",
   "execution_count": 3,
   "metadata": {},
   "outputs": [
    {
     "data": {
      "text/html": [
       "<div>\n",
       "<style scoped>\n",
       "    .dataframe tbody tr th:only-of-type {\n",
       "        vertical-align: middle;\n",
       "    }\n",
       "\n",
       "    .dataframe tbody tr th {\n",
       "        vertical-align: top;\n",
       "    }\n",
       "\n",
       "    .dataframe thead th {\n",
       "        text-align: right;\n",
       "    }\n",
       "</style>\n",
       "<table border=\"1\" class=\"dataframe\">\n",
       "  <thead>\n",
       "    <tr style=\"text-align: right;\">\n",
       "      <th></th>\n",
       "      <th>Number of Unique Items</th>\n",
       "      <th>Average Price</th>\n",
       "      <th>Number of Purchases</th>\n",
       "      <th>Total Revenue</th>\n",
       "    </tr>\n",
       "  </thead>\n",
       "  <tbody>\n",
       "    <tr>\n",
       "      <th>0</th>\n",
       "      <td>183</td>\n",
       "      <td>$3.05</td>\n",
       "      <td>780</td>\n",
       "      <td>$2,379.77</td>\n",
       "    </tr>\n",
       "  </tbody>\n",
       "</table>\n",
       "</div>"
      ],
      "text/plain": [
       "   Number of Unique Items Average Price  Number of Purchases Total Revenue\n",
       "0                     183         $3.05                  780     $2,379.77"
      ]
     },
     "execution_count": 3,
     "metadata": {},
     "output_type": "execute_result"
    }
   ],
   "source": [
    "unique_items = df['Item ID'].value_counts()\n",
    "unique2 = unique_items.count()\n",
    "price_avg = round(df['Price'].mean(),2)\n",
    "total_purchases = df['Price'].count()\n",
    "total_rev = df['Price'].sum()\n",
    "\n",
    "purchasing_analysis = pd.DataFrame({\n",
    "    \"Number of Unique Items\" : [unique2],\n",
    "    \"Average Price\" : [price_avg],\n",
    "    \"Number of Purchases\" : [total_purchases],\n",
    "    \"Total Revenue\" : [total_rev]\n",
    "})\n",
    "\n",
    "purchasing_analysis[\"Average Price\"] = purchasing_analysis['Average Price'].map('${:,.2f}'.format)\n",
    "purchasing_analysis[\"Total Revenue\"] = purchasing_analysis['Total Revenue'].map('${:,.2f}'.format)\n",
    "purchasing_analysis\n",
    "\n"
   ]
  },
  {
   "cell_type": "code",
   "execution_count": 4,
   "metadata": {},
   "outputs": [
    {
     "data": {
      "text/html": [
       "<style  type=\"text/css\" >\n",
       "</style><table id=\"T_20c78a98_7854_11ea_8c80_820d68a48180\" ><thead>    <tr>        <th class=\"blank level0\" ></th>        <th class=\"col_heading level0 col0\" >Total Count</th>        <th class=\"col_heading level0 col1\" >Percentage of Players</th>    </tr></thead><tbody>\n",
       "                <tr>\n",
       "                        <th id=\"T_20c78a98_7854_11ea_8c80_820d68a48180level0_row0\" class=\"row_heading level0 row0\" >Male</th>\n",
       "                        <td id=\"T_20c78a98_7854_11ea_8c80_820d68a48180row0_col0\" class=\"data row0 col0\" >484</td>\n",
       "                        <td id=\"T_20c78a98_7854_11ea_8c80_820d68a48180row0_col1\" class=\"data row0 col1\" >84.03%</td>\n",
       "            </tr>\n",
       "            <tr>\n",
       "                        <th id=\"T_20c78a98_7854_11ea_8c80_820d68a48180level0_row1\" class=\"row_heading level0 row1\" >Female</th>\n",
       "                        <td id=\"T_20c78a98_7854_11ea_8c80_820d68a48180row1_col0\" class=\"data row1 col0\" >81</td>\n",
       "                        <td id=\"T_20c78a98_7854_11ea_8c80_820d68a48180row1_col1\" class=\"data row1 col1\" >14.06%</td>\n",
       "            </tr>\n",
       "            <tr>\n",
       "                        <th id=\"T_20c78a98_7854_11ea_8c80_820d68a48180level0_row2\" class=\"row_heading level0 row2\" >Other / Non-Disclosed</th>\n",
       "                        <td id=\"T_20c78a98_7854_11ea_8c80_820d68a48180row2_col0\" class=\"data row2 col0\" >11</td>\n",
       "                        <td id=\"T_20c78a98_7854_11ea_8c80_820d68a48180row2_col1\" class=\"data row2 col1\" >1.91%</td>\n",
       "            </tr>\n",
       "    </tbody></table>"
      ],
      "text/plain": [
       "<pandas.io.formats.style.Styler at 0x102f63250>"
      ]
     },
     "execution_count": 4,
     "metadata": {},
     "output_type": "execute_result"
    }
   ],
   "source": [
    "un_gen = df.groupby(['Gender'])\n",
    "un_sn_gen = un_gen['SN'].nunique()\n",
    "un_sn_gen_per = un_sn_gen / unique * 100\n",
    "\n",
    "df_un_sn_gen = pd.DataFrame({\n",
    "    \"Total Count\": un_sn_gen,\n",
    "    \"Percentage of Players\": un_sn_gen_per\n",
    "})\n",
    "\n",
    "df_un_sn_gen.index.name = None\n",
    "\n",
    "df_un_sn_gen = df_un_sn_gen.sort_values(['Total Count'],ascending=False).style.format({'Percentage of Players':\"{:.2f}%\"})\n",
    "\n",
    "df_un_sn_gen"
   ]
  },
  {
   "cell_type": "code",
   "execution_count": 5,
   "metadata": {},
   "outputs": [
    {
     "data": {
      "text/html": [
       "<style  type=\"text/css\" >\n",
       "</style><table id=\"T_20ca4cb0_7854_11ea_8c80_820d68a48180\" ><thead>    <tr>        <th class=\"blank level0\" ></th>        <th class=\"col_heading level0 col0\" >Purchase Count</th>        <th class=\"col_heading level0 col1\" >Average Purchase Price</th>        <th class=\"col_heading level0 col2\" >Total Purchase Value</th>        <th class=\"col_heading level0 col3\" >Avg Total Purchase per Person</th>    </tr>    <tr>        <th class=\"index_name level0\" >Gender</th>        <th class=\"blank\" ></th>        <th class=\"blank\" ></th>        <th class=\"blank\" ></th>        <th class=\"blank\" ></th>    </tr></thead><tbody>\n",
       "                <tr>\n",
       "                        <th id=\"T_20ca4cb0_7854_11ea_8c80_820d68a48180level0_row0\" class=\"row_heading level0 row0\" >Female</th>\n",
       "                        <td id=\"T_20ca4cb0_7854_11ea_8c80_820d68a48180row0_col0\" class=\"data row0 col0\" >113</td>\n",
       "                        <td id=\"T_20ca4cb0_7854_11ea_8c80_820d68a48180row0_col1\" class=\"data row0 col1\" >$3.20</td>\n",
       "                        <td id=\"T_20ca4cb0_7854_11ea_8c80_820d68a48180row0_col2\" class=\"data row0 col2\" >$361.94</td>\n",
       "                        <td id=\"T_20ca4cb0_7854_11ea_8c80_820d68a48180row0_col3\" class=\"data row0 col3\" >$4.47</td>\n",
       "            </tr>\n",
       "            <tr>\n",
       "                        <th id=\"T_20ca4cb0_7854_11ea_8c80_820d68a48180level0_row1\" class=\"row_heading level0 row1\" >Male</th>\n",
       "                        <td id=\"T_20ca4cb0_7854_11ea_8c80_820d68a48180row1_col0\" class=\"data row1 col0\" >652</td>\n",
       "                        <td id=\"T_20ca4cb0_7854_11ea_8c80_820d68a48180row1_col1\" class=\"data row1 col1\" >$3.02</td>\n",
       "                        <td id=\"T_20ca4cb0_7854_11ea_8c80_820d68a48180row1_col2\" class=\"data row1 col2\" >$1967.64</td>\n",
       "                        <td id=\"T_20ca4cb0_7854_11ea_8c80_820d68a48180row1_col3\" class=\"data row1 col3\" >$4.07</td>\n",
       "            </tr>\n",
       "            <tr>\n",
       "                        <th id=\"T_20ca4cb0_7854_11ea_8c80_820d68a48180level0_row2\" class=\"row_heading level0 row2\" >Other / Non-Disclosed</th>\n",
       "                        <td id=\"T_20ca4cb0_7854_11ea_8c80_820d68a48180row2_col0\" class=\"data row2 col0\" >15</td>\n",
       "                        <td id=\"T_20ca4cb0_7854_11ea_8c80_820d68a48180row2_col1\" class=\"data row2 col1\" >$3.35</td>\n",
       "                        <td id=\"T_20ca4cb0_7854_11ea_8c80_820d68a48180row2_col2\" class=\"data row2 col2\" >$50.19</td>\n",
       "                        <td id=\"T_20ca4cb0_7854_11ea_8c80_820d68a48180row2_col3\" class=\"data row2 col3\" >$4.56</td>\n",
       "            </tr>\n",
       "    </tbody></table>"
      ],
      "text/plain": [
       "<pandas.io.formats.style.Styler at 0x113d9ed10>"
      ]
     },
     "execution_count": 5,
     "metadata": {},
     "output_type": "execute_result"
    }
   ],
   "source": [
    "grouped_gen = df.groupby(['Gender'])\n",
    "\n",
    "pur_an_gen = pd.DataFrame({\n",
    "    \"Purchase Count\": grouped_gen['Purchase ID'].count(),\n",
    "    \"Average Purchase Price\": grouped_gen['Price'].mean(),\n",
    "    \"Total Purchase Value\": grouped_gen['Price'].sum(),\n",
    "    \"Avg Total Purchase per Person\": grouped_gen['Price'].sum()/grouped_gen['SN'].nunique()\n",
    "})\n",
    "\n",
    "pur_an_gen = pur_an_gen.style.format({'Average Purchase Price':'${:.2f}',\n",
    "                                     'Total Purchase Value':'${:.2f}',\n",
    "                                     'Avg Total Purchase per Person':'${:.2f}'})\n",
    "\n",
    "pur_an_gen\n"
   ]
  },
  {
   "cell_type": "code",
   "execution_count": 6,
   "metadata": {},
   "outputs": [
    {
     "data": {
      "text/html": [
       "<style  type=\"text/css\" >\n",
       "</style><table id=\"T_20cd8128_7854_11ea_8c80_820d68a48180\" ><thead>    <tr>        <th class=\"blank level0\" ></th>        <th class=\"col_heading level0 col0\" >Total Count</th>        <th class=\"col_heading level0 col1\" >Percentage of Players</th>    </tr></thead><tbody>\n",
       "                <tr>\n",
       "                        <th id=\"T_20cd8128_7854_11ea_8c80_820d68a48180level0_row0\" class=\"row_heading level0 row0\" ><10</th>\n",
       "                        <td id=\"T_20cd8128_7854_11ea_8c80_820d68a48180row0_col0\" class=\"data row0 col0\" >17</td>\n",
       "                        <td id=\"T_20cd8128_7854_11ea_8c80_820d68a48180row0_col1\" class=\"data row0 col1\" >2.95%</td>\n",
       "            </tr>\n",
       "            <tr>\n",
       "                        <th id=\"T_20cd8128_7854_11ea_8c80_820d68a48180level0_row1\" class=\"row_heading level0 row1\" >10-14</th>\n",
       "                        <td id=\"T_20cd8128_7854_11ea_8c80_820d68a48180row1_col0\" class=\"data row1 col0\" >22</td>\n",
       "                        <td id=\"T_20cd8128_7854_11ea_8c80_820d68a48180row1_col1\" class=\"data row1 col1\" >3.82%</td>\n",
       "            </tr>\n",
       "            <tr>\n",
       "                        <th id=\"T_20cd8128_7854_11ea_8c80_820d68a48180level0_row2\" class=\"row_heading level0 row2\" >15-19</th>\n",
       "                        <td id=\"T_20cd8128_7854_11ea_8c80_820d68a48180row2_col0\" class=\"data row2 col0\" >107</td>\n",
       "                        <td id=\"T_20cd8128_7854_11ea_8c80_820d68a48180row2_col1\" class=\"data row2 col1\" >18.58%</td>\n",
       "            </tr>\n",
       "            <tr>\n",
       "                        <th id=\"T_20cd8128_7854_11ea_8c80_820d68a48180level0_row3\" class=\"row_heading level0 row3\" >20-24</th>\n",
       "                        <td id=\"T_20cd8128_7854_11ea_8c80_820d68a48180row3_col0\" class=\"data row3 col0\" >258</td>\n",
       "                        <td id=\"T_20cd8128_7854_11ea_8c80_820d68a48180row3_col1\" class=\"data row3 col1\" >44.79%</td>\n",
       "            </tr>\n",
       "            <tr>\n",
       "                        <th id=\"T_20cd8128_7854_11ea_8c80_820d68a48180level0_row4\" class=\"row_heading level0 row4\" >25-29</th>\n",
       "                        <td id=\"T_20cd8128_7854_11ea_8c80_820d68a48180row4_col0\" class=\"data row4 col0\" >77</td>\n",
       "                        <td id=\"T_20cd8128_7854_11ea_8c80_820d68a48180row4_col1\" class=\"data row4 col1\" >13.37%</td>\n",
       "            </tr>\n",
       "            <tr>\n",
       "                        <th id=\"T_20cd8128_7854_11ea_8c80_820d68a48180level0_row5\" class=\"row_heading level0 row5\" >30-34</th>\n",
       "                        <td id=\"T_20cd8128_7854_11ea_8c80_820d68a48180row5_col0\" class=\"data row5 col0\" >52</td>\n",
       "                        <td id=\"T_20cd8128_7854_11ea_8c80_820d68a48180row5_col1\" class=\"data row5 col1\" >9.03%</td>\n",
       "            </tr>\n",
       "            <tr>\n",
       "                        <th id=\"T_20cd8128_7854_11ea_8c80_820d68a48180level0_row6\" class=\"row_heading level0 row6\" >35-39</th>\n",
       "                        <td id=\"T_20cd8128_7854_11ea_8c80_820d68a48180row6_col0\" class=\"data row6 col0\" >31</td>\n",
       "                        <td id=\"T_20cd8128_7854_11ea_8c80_820d68a48180row6_col1\" class=\"data row6 col1\" >5.38%</td>\n",
       "            </tr>\n",
       "            <tr>\n",
       "                        <th id=\"T_20cd8128_7854_11ea_8c80_820d68a48180level0_row7\" class=\"row_heading level0 row7\" >40+</th>\n",
       "                        <td id=\"T_20cd8128_7854_11ea_8c80_820d68a48180row7_col0\" class=\"data row7 col0\" >12</td>\n",
       "                        <td id=\"T_20cd8128_7854_11ea_8c80_820d68a48180row7_col1\" class=\"data row7 col1\" >2.08%</td>\n",
       "            </tr>\n",
       "    </tbody></table>"
      ],
      "text/plain": [
       "<pandas.io.formats.style.Styler at 0x102f37090>"
      ]
     },
     "execution_count": 6,
     "metadata": {},
     "output_type": "execute_result"
    }
   ],
   "source": [
    "bins = [0,9,14,19,24,29,34,39,100]\n",
    "group_labels = ['<10','10-14','15-19','20-24','25-29','30-34','35-39','40+']\n",
    "\n",
    "df['Age Ranges'] = pd.cut(df['Age'], bins, labels=group_labels)\n",
    "\n",
    "df_bins = df.groupby('Age Ranges')\n",
    "bins_un = df_bins['SN'].nunique()\n",
    "bins_pec = bins_un / unique * 100\n",
    "\n",
    "age_demographics = pd.DataFrame({\n",
    "    'Total Count': bins_un,\n",
    "    'Percentage of Players': bins_pec\n",
    "})\n",
    "\n",
    "age_demographics.index.name = None\n",
    "\n",
    "age_demographics = age_demographics.style.format({\"Percentage of Players\":\"{:.2f}%\"})\n",
    "\n",
    "age_demographics"
   ]
  },
  {
   "cell_type": "code",
   "execution_count": 7,
   "metadata": {},
   "outputs": [
    {
     "data": {
      "text/html": [
       "<style  type=\"text/css\" >\n",
       "</style><table id=\"T_20d04566_7854_11ea_8c80_820d68a48180\" ><thead>    <tr>        <th class=\"blank level0\" ></th>        <th class=\"col_heading level0 col0\" >Purchase Count</th>        <th class=\"col_heading level0 col1\" >Average Purchase Price</th>        <th class=\"col_heading level0 col2\" >Total Purchase Value</th>        <th class=\"col_heading level0 col3\" >Avg Total Purchase per Person</th>    </tr></thead><tbody>\n",
       "                <tr>\n",
       "                        <th id=\"T_20d04566_7854_11ea_8c80_820d68a48180level0_row0\" class=\"row_heading level0 row0\" ><10</th>\n",
       "                        <td id=\"T_20d04566_7854_11ea_8c80_820d68a48180row0_col0\" class=\"data row0 col0\" >23</td>\n",
       "                        <td id=\"T_20d04566_7854_11ea_8c80_820d68a48180row0_col1\" class=\"data row0 col1\" >$3.35</td>\n",
       "                        <td id=\"T_20d04566_7854_11ea_8c80_820d68a48180row0_col2\" class=\"data row0 col2\" >$77.13</td>\n",
       "                        <td id=\"T_20d04566_7854_11ea_8c80_820d68a48180row0_col3\" class=\"data row0 col3\" >$4.54</td>\n",
       "            </tr>\n",
       "            <tr>\n",
       "                        <th id=\"T_20d04566_7854_11ea_8c80_820d68a48180level0_row1\" class=\"row_heading level0 row1\" >10-14</th>\n",
       "                        <td id=\"T_20d04566_7854_11ea_8c80_820d68a48180row1_col0\" class=\"data row1 col0\" >28</td>\n",
       "                        <td id=\"T_20d04566_7854_11ea_8c80_820d68a48180row1_col1\" class=\"data row1 col1\" >$2.96</td>\n",
       "                        <td id=\"T_20d04566_7854_11ea_8c80_820d68a48180row1_col2\" class=\"data row1 col2\" >$82.78</td>\n",
       "                        <td id=\"T_20d04566_7854_11ea_8c80_820d68a48180row1_col3\" class=\"data row1 col3\" >$3.76</td>\n",
       "            </tr>\n",
       "            <tr>\n",
       "                        <th id=\"T_20d04566_7854_11ea_8c80_820d68a48180level0_row2\" class=\"row_heading level0 row2\" >15-19</th>\n",
       "                        <td id=\"T_20d04566_7854_11ea_8c80_820d68a48180row2_col0\" class=\"data row2 col0\" >136</td>\n",
       "                        <td id=\"T_20d04566_7854_11ea_8c80_820d68a48180row2_col1\" class=\"data row2 col1\" >$3.04</td>\n",
       "                        <td id=\"T_20d04566_7854_11ea_8c80_820d68a48180row2_col2\" class=\"data row2 col2\" >$412.89</td>\n",
       "                        <td id=\"T_20d04566_7854_11ea_8c80_820d68a48180row2_col3\" class=\"data row2 col3\" >$3.86</td>\n",
       "            </tr>\n",
       "            <tr>\n",
       "                        <th id=\"T_20d04566_7854_11ea_8c80_820d68a48180level0_row3\" class=\"row_heading level0 row3\" >20-24</th>\n",
       "                        <td id=\"T_20d04566_7854_11ea_8c80_820d68a48180row3_col0\" class=\"data row3 col0\" >365</td>\n",
       "                        <td id=\"T_20d04566_7854_11ea_8c80_820d68a48180row3_col1\" class=\"data row3 col1\" >$3.05</td>\n",
       "                        <td id=\"T_20d04566_7854_11ea_8c80_820d68a48180row3_col2\" class=\"data row3 col2\" >$1114.06</td>\n",
       "                        <td id=\"T_20d04566_7854_11ea_8c80_820d68a48180row3_col3\" class=\"data row3 col3\" >$4.32</td>\n",
       "            </tr>\n",
       "            <tr>\n",
       "                        <th id=\"T_20d04566_7854_11ea_8c80_820d68a48180level0_row4\" class=\"row_heading level0 row4\" >25-29</th>\n",
       "                        <td id=\"T_20d04566_7854_11ea_8c80_820d68a48180row4_col0\" class=\"data row4 col0\" >101</td>\n",
       "                        <td id=\"T_20d04566_7854_11ea_8c80_820d68a48180row4_col1\" class=\"data row4 col1\" >$2.90</td>\n",
       "                        <td id=\"T_20d04566_7854_11ea_8c80_820d68a48180row4_col2\" class=\"data row4 col2\" >$293.00</td>\n",
       "                        <td id=\"T_20d04566_7854_11ea_8c80_820d68a48180row4_col3\" class=\"data row4 col3\" >$3.81</td>\n",
       "            </tr>\n",
       "            <tr>\n",
       "                        <th id=\"T_20d04566_7854_11ea_8c80_820d68a48180level0_row5\" class=\"row_heading level0 row5\" >30-34</th>\n",
       "                        <td id=\"T_20d04566_7854_11ea_8c80_820d68a48180row5_col0\" class=\"data row5 col0\" >73</td>\n",
       "                        <td id=\"T_20d04566_7854_11ea_8c80_820d68a48180row5_col1\" class=\"data row5 col1\" >$2.93</td>\n",
       "                        <td id=\"T_20d04566_7854_11ea_8c80_820d68a48180row5_col2\" class=\"data row5 col2\" >$214.00</td>\n",
       "                        <td id=\"T_20d04566_7854_11ea_8c80_820d68a48180row5_col3\" class=\"data row5 col3\" >$4.12</td>\n",
       "            </tr>\n",
       "            <tr>\n",
       "                        <th id=\"T_20d04566_7854_11ea_8c80_820d68a48180level0_row6\" class=\"row_heading level0 row6\" >35-39</th>\n",
       "                        <td id=\"T_20d04566_7854_11ea_8c80_820d68a48180row6_col0\" class=\"data row6 col0\" >41</td>\n",
       "                        <td id=\"T_20d04566_7854_11ea_8c80_820d68a48180row6_col1\" class=\"data row6 col1\" >$3.60</td>\n",
       "                        <td id=\"T_20d04566_7854_11ea_8c80_820d68a48180row6_col2\" class=\"data row6 col2\" >$147.67</td>\n",
       "                        <td id=\"T_20d04566_7854_11ea_8c80_820d68a48180row6_col3\" class=\"data row6 col3\" >$4.76</td>\n",
       "            </tr>\n",
       "            <tr>\n",
       "                        <th id=\"T_20d04566_7854_11ea_8c80_820d68a48180level0_row7\" class=\"row_heading level0 row7\" >40+</th>\n",
       "                        <td id=\"T_20d04566_7854_11ea_8c80_820d68a48180row7_col0\" class=\"data row7 col0\" >13</td>\n",
       "                        <td id=\"T_20d04566_7854_11ea_8c80_820d68a48180row7_col1\" class=\"data row7 col1\" >$2.94</td>\n",
       "                        <td id=\"T_20d04566_7854_11ea_8c80_820d68a48180row7_col2\" class=\"data row7 col2\" >$38.24</td>\n",
       "                        <td id=\"T_20d04566_7854_11ea_8c80_820d68a48180row7_col3\" class=\"data row7 col3\" >$3.19</td>\n",
       "            </tr>\n",
       "    </tbody></table>"
      ],
      "text/plain": [
       "<pandas.io.formats.style.Styler at 0x114645790>"
      ]
     },
     "execution_count": 7,
     "metadata": {},
     "output_type": "execute_result"
    }
   ],
   "source": [
    "age_purchase_count = df_bins['SN'].count()\n",
    "age_ave_purchase_price = df_bins['Price'].mean()\n",
    "age_total_value = df_bins['Price'].sum()\n",
    "age_av_total_purchase = df_bins['Price'].sum()/bins_un\n",
    "\n",
    "pur_an_age = pd.DataFrame({\n",
    "    \"Purchase Count\": age_purchase_count,\n",
    "    \"Average Purchase Price\": age_ave_purchase_price,\n",
    "    \"Total Purchase Value\": age_total_value,\n",
    "    \"Avg Total Purchase per Person\": age_av_total_purchase\n",
    "})\n",
    "\n",
    "pur_an_age = pur_an_age.style.format({\n",
    "    \"Average Purchase Price\": \"${:.2f}\",\n",
    "    \"Total Purchase Value\": \"${:.2f}\",\n",
    "    \"Avg Total Purchase per Person\": \"${:.2f}\"\n",
    "})\n",
    "\n",
    "pur_an_age\n"
   ]
  },
  {
   "cell_type": "code",
   "execution_count": 8,
   "metadata": {},
   "outputs": [
    {
     "data": {
      "text/html": [
       "<style  type=\"text/css\" >\n",
       "</style><table id=\"T_20d3ca2e_7854_11ea_8c80_820d68a48180\" ><thead>    <tr>        <th class=\"blank level0\" ></th>        <th class=\"col_heading level0 col0\" >Purchase Count</th>        <th class=\"col_heading level0 col1\" >Average Purchase Price</th>        <th class=\"col_heading level0 col2\" >Total Purchase Value</th>    </tr>    <tr>        <th class=\"index_name level0\" >SN</th>        <th class=\"blank\" ></th>        <th class=\"blank\" ></th>        <th class=\"blank\" ></th>    </tr></thead><tbody>\n",
       "                <tr>\n",
       "                        <th id=\"T_20d3ca2e_7854_11ea_8c80_820d68a48180level0_row0\" class=\"row_heading level0 row0\" >Lisosia93</th>\n",
       "                        <td id=\"T_20d3ca2e_7854_11ea_8c80_820d68a48180row0_col0\" class=\"data row0 col0\" >5</td>\n",
       "                        <td id=\"T_20d3ca2e_7854_11ea_8c80_820d68a48180row0_col1\" class=\"data row0 col1\" >$3.79</td>\n",
       "                        <td id=\"T_20d3ca2e_7854_11ea_8c80_820d68a48180row0_col2\" class=\"data row0 col2\" >$18.96</td>\n",
       "            </tr>\n",
       "            <tr>\n",
       "                        <th id=\"T_20d3ca2e_7854_11ea_8c80_820d68a48180level0_row1\" class=\"row_heading level0 row1\" >Idastidru52</th>\n",
       "                        <td id=\"T_20d3ca2e_7854_11ea_8c80_820d68a48180row1_col0\" class=\"data row1 col0\" >4</td>\n",
       "                        <td id=\"T_20d3ca2e_7854_11ea_8c80_820d68a48180row1_col1\" class=\"data row1 col1\" >$3.86</td>\n",
       "                        <td id=\"T_20d3ca2e_7854_11ea_8c80_820d68a48180row1_col2\" class=\"data row1 col2\" >$15.45</td>\n",
       "            </tr>\n",
       "            <tr>\n",
       "                        <th id=\"T_20d3ca2e_7854_11ea_8c80_820d68a48180level0_row2\" class=\"row_heading level0 row2\" >Chamjask73</th>\n",
       "                        <td id=\"T_20d3ca2e_7854_11ea_8c80_820d68a48180row2_col0\" class=\"data row2 col0\" >3</td>\n",
       "                        <td id=\"T_20d3ca2e_7854_11ea_8c80_820d68a48180row2_col1\" class=\"data row2 col1\" >$4.61</td>\n",
       "                        <td id=\"T_20d3ca2e_7854_11ea_8c80_820d68a48180row2_col2\" class=\"data row2 col2\" >$13.83</td>\n",
       "            </tr>\n",
       "            <tr>\n",
       "                        <th id=\"T_20d3ca2e_7854_11ea_8c80_820d68a48180level0_row3\" class=\"row_heading level0 row3\" >Iral74</th>\n",
       "                        <td id=\"T_20d3ca2e_7854_11ea_8c80_820d68a48180row3_col0\" class=\"data row3 col0\" >4</td>\n",
       "                        <td id=\"T_20d3ca2e_7854_11ea_8c80_820d68a48180row3_col1\" class=\"data row3 col1\" >$3.40</td>\n",
       "                        <td id=\"T_20d3ca2e_7854_11ea_8c80_820d68a48180row3_col2\" class=\"data row3 col2\" >$13.62</td>\n",
       "            </tr>\n",
       "            <tr>\n",
       "                        <th id=\"T_20d3ca2e_7854_11ea_8c80_820d68a48180level0_row4\" class=\"row_heading level0 row4\" >Iskadarya95</th>\n",
       "                        <td id=\"T_20d3ca2e_7854_11ea_8c80_820d68a48180row4_col0\" class=\"data row4 col0\" >3</td>\n",
       "                        <td id=\"T_20d3ca2e_7854_11ea_8c80_820d68a48180row4_col1\" class=\"data row4 col1\" >$4.37</td>\n",
       "                        <td id=\"T_20d3ca2e_7854_11ea_8c80_820d68a48180row4_col2\" class=\"data row4 col2\" >$13.10</td>\n",
       "            </tr>\n",
       "    </tbody></table>"
      ],
      "text/plain": [
       "<pandas.io.formats.style.Styler at 0x114645150>"
      ]
     },
     "execution_count": 8,
     "metadata": {},
     "output_type": "execute_result"
    }
   ],
   "source": [
    "df_sn = df.groupby('SN')\n",
    "\n",
    "purchase_count = df_sn['SN'].count()\n",
    "avg_purchase_price = df_sn['Price'].mean()\n",
    "total_purchase_price = df_sn['Price'].sum()\n",
    "\n",
    "top_spenders = pd.DataFrame({\n",
    "    \"Purchase Count\": purchase_count,\n",
    "    \"Average Purchase Price\": avg_purchase_price,\n",
    "    \"Total Purchase Value\": total_purchase_price\n",
    "})\n",
    "\n",
    "top_spenders = top_spenders.sort_values(['Total Purchase Value'], ascending=False).head()\n",
    "top_spenders.style.format({\n",
    "    \"Average Purchase Price\": \"${:.2f}\",\n",
    "    \"Total Purchase Value\": \"${:.2f}\"\n",
    "})\n"
   ]
  },
  {
   "cell_type": "code",
   "execution_count": 9,
   "metadata": {},
   "outputs": [
    {
     "data": {
      "text/html": [
       "<style  type=\"text/css\" >\n",
       "</style><table id=\"T_20d6f262_7854_11ea_8c80_820d68a48180\" ><thead>    <tr>        <th class=\"blank\" ></th>        <th class=\"blank level0\" ></th>        <th class=\"col_heading level0 col0\" >Purchase Count</th>        <th class=\"col_heading level0 col1\" >Item Price</th>        <th class=\"col_heading level0 col2\" >Total Purchase Value</th>    </tr>    <tr>        <th class=\"index_name level0\" >Item ID</th>        <th class=\"index_name level1\" >Item Name</th>        <th class=\"blank\" ></th>        <th class=\"blank\" ></th>        <th class=\"blank\" ></th>    </tr></thead><tbody>\n",
       "                <tr>\n",
       "                        <th id=\"T_20d6f262_7854_11ea_8c80_820d68a48180level0_row0\" class=\"row_heading level0 row0\" >178</th>\n",
       "                        <th id=\"T_20d6f262_7854_11ea_8c80_820d68a48180level1_row0\" class=\"row_heading level1 row0\" >Oathbreaker, Last Hope of the Breaking Storm</th>\n",
       "                        <td id=\"T_20d6f262_7854_11ea_8c80_820d68a48180row0_col0\" class=\"data row0 col0\" >12</td>\n",
       "                        <td id=\"T_20d6f262_7854_11ea_8c80_820d68a48180row0_col1\" class=\"data row0 col1\" >$4.23</td>\n",
       "                        <td id=\"T_20d6f262_7854_11ea_8c80_820d68a48180row0_col2\" class=\"data row0 col2\" >$50.76</td>\n",
       "            </tr>\n",
       "            <tr>\n",
       "                        <th id=\"T_20d6f262_7854_11ea_8c80_820d68a48180level0_row1\" class=\"row_heading level0 row1\" >145</th>\n",
       "                        <th id=\"T_20d6f262_7854_11ea_8c80_820d68a48180level1_row1\" class=\"row_heading level1 row1\" >Fiery Glass Crusader</th>\n",
       "                        <td id=\"T_20d6f262_7854_11ea_8c80_820d68a48180row1_col0\" class=\"data row1 col0\" >9</td>\n",
       "                        <td id=\"T_20d6f262_7854_11ea_8c80_820d68a48180row1_col1\" class=\"data row1 col1\" >$4.58</td>\n",
       "                        <td id=\"T_20d6f262_7854_11ea_8c80_820d68a48180row1_col2\" class=\"data row1 col2\" >$41.22</td>\n",
       "            </tr>\n",
       "            <tr>\n",
       "                        <th id=\"T_20d6f262_7854_11ea_8c80_820d68a48180level0_row2\" class=\"row_heading level0 row2\" >108</th>\n",
       "                        <th id=\"T_20d6f262_7854_11ea_8c80_820d68a48180level1_row2\" class=\"row_heading level1 row2\" >Extraction, Quickblade Of Trembling Hands</th>\n",
       "                        <td id=\"T_20d6f262_7854_11ea_8c80_820d68a48180row2_col0\" class=\"data row2 col0\" >9</td>\n",
       "                        <td id=\"T_20d6f262_7854_11ea_8c80_820d68a48180row2_col1\" class=\"data row2 col1\" >$3.53</td>\n",
       "                        <td id=\"T_20d6f262_7854_11ea_8c80_820d68a48180row2_col2\" class=\"data row2 col2\" >$31.77</td>\n",
       "            </tr>\n",
       "            <tr>\n",
       "                        <th id=\"T_20d6f262_7854_11ea_8c80_820d68a48180level0_row3\" class=\"row_heading level0 row3\" >82</th>\n",
       "                        <th id=\"T_20d6f262_7854_11ea_8c80_820d68a48180level1_row3\" class=\"row_heading level1 row3\" >Nirvana</th>\n",
       "                        <td id=\"T_20d6f262_7854_11ea_8c80_820d68a48180row3_col0\" class=\"data row3 col0\" >9</td>\n",
       "                        <td id=\"T_20d6f262_7854_11ea_8c80_820d68a48180row3_col1\" class=\"data row3 col1\" >$4.90</td>\n",
       "                        <td id=\"T_20d6f262_7854_11ea_8c80_820d68a48180row3_col2\" class=\"data row3 col2\" >$44.10</td>\n",
       "            </tr>\n",
       "            <tr>\n",
       "                        <th id=\"T_20d6f262_7854_11ea_8c80_820d68a48180level0_row4\" class=\"row_heading level0 row4\" >19</th>\n",
       "                        <th id=\"T_20d6f262_7854_11ea_8c80_820d68a48180level1_row4\" class=\"row_heading level1 row4\" >Pursuit, Cudgel of Necromancy</th>\n",
       "                        <td id=\"T_20d6f262_7854_11ea_8c80_820d68a48180row4_col0\" class=\"data row4 col0\" >8</td>\n",
       "                        <td id=\"T_20d6f262_7854_11ea_8c80_820d68a48180row4_col1\" class=\"data row4 col1\" >$1.02</td>\n",
       "                        <td id=\"T_20d6f262_7854_11ea_8c80_820d68a48180row4_col2\" class=\"data row4 col2\" >$8.16</td>\n",
       "            </tr>\n",
       "    </tbody></table>"
      ],
      "text/plain": [
       "<pandas.io.formats.style.Styler at 0x113411ed0>"
      ]
     },
     "execution_count": 9,
     "metadata": {},
     "output_type": "execute_result"
    }
   ],
   "source": [
    "df_popular = df.groupby(['Item ID','Item Name'])\n",
    "item_count = df_popular['Price'].count()\n",
    "total_price = df_popular['Price'].sum()\n",
    "price_per_item = total_price/item_count\n",
    "\n",
    "most_popular_items = pd.DataFrame({\n",
    "    \"Purchase Count\": item_count,\n",
    "    \"Item Price\": price_per_item,\n",
    "    \"Total Purchase Value\": total_price\n",
    "})\n",
    "\n",
    "formatted_items = most_popular_items.sort_values(\"Purchase Count\", ascending=False).head()\n",
    "formatted_items.style.format({\n",
    "    \"Item Price\": \"${:.2f}\",\n",
    "    \"Total Purchase Value\": \"${:.2f}\"\n",
    "})"
   ]
  },
  {
   "cell_type": "code",
   "execution_count": 10,
   "metadata": {},
   "outputs": [
    {
     "data": {
      "text/html": [
       "<style  type=\"text/css\" >\n",
       "</style><table id=\"T_20d8fca6_7854_11ea_8c80_820d68a48180\" ><thead>    <tr>        <th class=\"blank\" ></th>        <th class=\"blank level0\" ></th>        <th class=\"col_heading level0 col0\" >Purchase Count</th>        <th class=\"col_heading level0 col1\" >Item Price</th>        <th class=\"col_heading level0 col2\" >Total Purchase Value</th>    </tr>    <tr>        <th class=\"index_name level0\" >Item ID</th>        <th class=\"index_name level1\" >Item Name</th>        <th class=\"blank\" ></th>        <th class=\"blank\" ></th>        <th class=\"blank\" ></th>    </tr></thead><tbody>\n",
       "                <tr>\n",
       "                        <th id=\"T_20d8fca6_7854_11ea_8c80_820d68a48180level0_row0\" class=\"row_heading level0 row0\" >178</th>\n",
       "                        <th id=\"T_20d8fca6_7854_11ea_8c80_820d68a48180level1_row0\" class=\"row_heading level1 row0\" >Oathbreaker, Last Hope of the Breaking Storm</th>\n",
       "                        <td id=\"T_20d8fca6_7854_11ea_8c80_820d68a48180row0_col0\" class=\"data row0 col0\" >12</td>\n",
       "                        <td id=\"T_20d8fca6_7854_11ea_8c80_820d68a48180row0_col1\" class=\"data row0 col1\" >$4.23</td>\n",
       "                        <td id=\"T_20d8fca6_7854_11ea_8c80_820d68a48180row0_col2\" class=\"data row0 col2\" >$50.76</td>\n",
       "            </tr>\n",
       "            <tr>\n",
       "                        <th id=\"T_20d8fca6_7854_11ea_8c80_820d68a48180level0_row1\" class=\"row_heading level0 row1\" >82</th>\n",
       "                        <th id=\"T_20d8fca6_7854_11ea_8c80_820d68a48180level1_row1\" class=\"row_heading level1 row1\" >Nirvana</th>\n",
       "                        <td id=\"T_20d8fca6_7854_11ea_8c80_820d68a48180row1_col0\" class=\"data row1 col0\" >9</td>\n",
       "                        <td id=\"T_20d8fca6_7854_11ea_8c80_820d68a48180row1_col1\" class=\"data row1 col1\" >$4.90</td>\n",
       "                        <td id=\"T_20d8fca6_7854_11ea_8c80_820d68a48180row1_col2\" class=\"data row1 col2\" >$44.10</td>\n",
       "            </tr>\n",
       "            <tr>\n",
       "                        <th id=\"T_20d8fca6_7854_11ea_8c80_820d68a48180level0_row2\" class=\"row_heading level0 row2\" >145</th>\n",
       "                        <th id=\"T_20d8fca6_7854_11ea_8c80_820d68a48180level1_row2\" class=\"row_heading level1 row2\" >Fiery Glass Crusader</th>\n",
       "                        <td id=\"T_20d8fca6_7854_11ea_8c80_820d68a48180row2_col0\" class=\"data row2 col0\" >9</td>\n",
       "                        <td id=\"T_20d8fca6_7854_11ea_8c80_820d68a48180row2_col1\" class=\"data row2 col1\" >$4.58</td>\n",
       "                        <td id=\"T_20d8fca6_7854_11ea_8c80_820d68a48180row2_col2\" class=\"data row2 col2\" >$41.22</td>\n",
       "            </tr>\n",
       "            <tr>\n",
       "                        <th id=\"T_20d8fca6_7854_11ea_8c80_820d68a48180level0_row3\" class=\"row_heading level0 row3\" >92</th>\n",
       "                        <th id=\"T_20d8fca6_7854_11ea_8c80_820d68a48180level1_row3\" class=\"row_heading level1 row3\" >Final Critic</th>\n",
       "                        <td id=\"T_20d8fca6_7854_11ea_8c80_820d68a48180row3_col0\" class=\"data row3 col0\" >8</td>\n",
       "                        <td id=\"T_20d8fca6_7854_11ea_8c80_820d68a48180row3_col1\" class=\"data row3 col1\" >$4.88</td>\n",
       "                        <td id=\"T_20d8fca6_7854_11ea_8c80_820d68a48180row3_col2\" class=\"data row3 col2\" >$39.04</td>\n",
       "            </tr>\n",
       "            <tr>\n",
       "                        <th id=\"T_20d8fca6_7854_11ea_8c80_820d68a48180level0_row4\" class=\"row_heading level0 row4\" >103</th>\n",
       "                        <th id=\"T_20d8fca6_7854_11ea_8c80_820d68a48180level1_row4\" class=\"row_heading level1 row4\" >Singed Scalpel</th>\n",
       "                        <td id=\"T_20d8fca6_7854_11ea_8c80_820d68a48180row4_col0\" class=\"data row4 col0\" >8</td>\n",
       "                        <td id=\"T_20d8fca6_7854_11ea_8c80_820d68a48180row4_col1\" class=\"data row4 col1\" >$4.35</td>\n",
       "                        <td id=\"T_20d8fca6_7854_11ea_8c80_820d68a48180row4_col2\" class=\"data row4 col2\" >$34.80</td>\n",
       "            </tr>\n",
       "    </tbody></table>"
      ],
      "text/plain": [
       "<pandas.io.formats.style.Styler at 0x1146409d0>"
      ]
     },
     "execution_count": 10,
     "metadata": {},
     "output_type": "execute_result"
    }
   ],
   "source": [
    "most_profitable_items = most_popular_items\n",
    "format_items = most_profitable_items.sort_values(\"Total Purchase Value\", ascending= False).head()\n",
    "format_items.style.format({\n",
    "    \"Item Price\": \"${:.2f}\",\n",
    "    \"Total Purchase Value\": \"${:.2f}\"\n",
    "})"
   ]
  }
 ],
 "metadata": {
  "kernelspec": {
   "display_name": "Python 3",
   "language": "python",
   "name": "python3"
  },
  "language_info": {
   "codemirror_mode": {
    "name": "ipython",
    "version": 3
   },
   "file_extension": ".py",
   "mimetype": "text/x-python",
   "name": "python",
   "nbconvert_exporter": "python",
   "pygments_lexer": "ipython3",
   "version": "3.7.4"
  }
 },
 "nbformat": 4,
 "nbformat_minor": 4
}
